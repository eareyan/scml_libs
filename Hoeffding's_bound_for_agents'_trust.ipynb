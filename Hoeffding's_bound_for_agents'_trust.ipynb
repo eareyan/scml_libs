{
  "nbformat": 4,
  "nbformat_minor": 0,
  "metadata": {
    "colab": {
      "name": "Hoeffding's bound for agents' trust.ipynb",
      "provenance": [],
      "authorship_tag": "ABX9TyOYDl9N4/wCnrfYyDtgU8eP",
      "include_colab_link": true
    },
    "kernelspec": {
      "name": "python3",
      "display_name": "Python 3"
    }
  },
  "cells": [
    {
      "cell_type": "markdown",
      "metadata": {
        "id": "view-in-github",
        "colab_type": "text"
      },
      "source": [
        "<a href=\"https://colab.research.google.com/github/eareyan/scml_libs/blob/master/Hoeffding's_bound_for_agents'_trust.ipynb\" target=\"_parent\"><img src=\"https://colab.research.google.com/assets/colab-badge.svg\" alt=\"Open In Colab\"/></a>"
      ]
    },
    {
      "cell_type": "code",
      "metadata": {
        "id": "rexXSUdExxVp",
        "colab_type": "code",
        "colab": {}
      },
      "source": [
        "import math"
      ],
      "execution_count": null,
      "outputs": []
    },
    {
      "cell_type": "code",
      "metadata": {
        "id": "iNZEJXIOv-Cr",
        "colab_type": "code",
        "colab": {}
      },
      "source": [
        "def eps(delta, n):\n",
        "  \"\"\" Given delta and epsilon, computes the radius of a 1 - delta confidence interval assuming n observation of a Bernoulli r.v.\"\"\"\n",
        "  return math.sqrt((-1.0 / (2.0 * n)) * math.log(delta / 2.0))"
      ],
      "execution_count": null,
      "outputs": []
    },
    {
      "cell_type": "code",
      "metadata": {
        "id": "E47g5cyA1V8l",
        "colab_type": "code",
        "colab": {}
      },
      "source": [
        "import matplotlib.pyplot as plt "
      ],
      "execution_count": null,
      "outputs": []
    },
    {
      "cell_type": "code",
      "metadata": {
        "id": "44F3Jgyi2Es3",
        "colab_type": "code",
        "colab": {
          "base_uri": "https://localhost:8080/",
          "height": 282
        },
        "outputId": "b191b567-4b8c-49f7-aa7b-2fa8c1b5c118"
      },
      "source": [
        "# Plot how much we trust another agent at a c.i. of (1 - delta)% having observed empirical_average after n many interactions.\n",
        "delta = 0.2\n",
        "empirical_average = 0.1\n",
        "n = 15\n",
        "\n",
        "# Plots if we are \"nice\", i.e., if we take the upper bound of the c.i\n",
        "plt.plot([i for i in range(1, n)], [min(empirical_average + eps(delta, i), 1.0) for i in range(1, n)])\n",
        "plt.plot([i for i in range(1, n)], [1.0 for i in range(1, n)])\n",
        "axes = plt.gca()\n",
        "axes.set_ylim([0.0 , 1.25])"
      ],
      "execution_count": null,
      "outputs": [
        {
          "output_type": "execute_result",
          "data": {
            "text/plain": [
              "(0.0, 1.25)"
            ]
          },
          "metadata": {
            "tags": []
          },
          "execution_count": 26
        },
        {
          "output_type": "display_data",
          "data": {
            "image/png": "[encoded data removed]",
            "text/plain": [
              "<Figure size 432x288 with 1 Axes>"
            ]
          },
          "metadata": {
            "tags": [],
            "needs_background": "light"
          }
        }
      ]
    },
    {
      "cell_type": "code",
      "metadata": {
        "id": "cE6bURk250G9",
        "colab_type": "code",
        "colab": {}
      },
      "source": [
        ""
      ],
      "execution_count": null,
      "outputs": []
    },
    {
      "cell_type": "code",
      "metadata": {
        "id": "QMIrH7Y1Lp5G",
        "colab_type": "code",
        "colab": {
          "base_uri": "https://localhost:8080/",
          "height": 34
        },
        "outputId": "b0739cba-0273-4c34-d0dd-6b66a645ff07"
      },
      "source": [
        "1.0 + eps(delta, 25)"
      ],
      "execution_count": null,
      "outputs": [
        {
          "output_type": "execute_result",
          "data": {
            "text/plain": [
              "0.7145966026289348"
            ]
          },
          "metadata": {
            "tags": []
          },
          "execution_count": 13
        }
      ]
    },
    {
      "cell_type": "code",
      "metadata": {
        "id": "0HUNt69MLyWa",
        "colab_type": "code",
        "colab": {}
      },
      "source": [
        ""
      ],
      "execution_count": null,
      "outputs": []
    }
  ]
}